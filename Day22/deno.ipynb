{
 "cells": [
  {
   "cell_type": "markdown",
   "metadata": {},
   "source": [
    "https://adventofcode.com/2024/day/22"
   ]
  },
  {
   "cell_type": "code",
   "execution_count": null,
   "metadata": {},
   "outputs": [],
   "source": [
    "// const file = '123'\n",
    "const file = await Deno.readTextFile('input')\n",
    "const lines = file.split('\\n')\n",
    "\n",
    "let result = 0\n",
    "\n",
    "function mix(value:bigint, secret:bigint):bigint {\n",
    "    return (secret ^ value) >>> 0 // Remove singed bit\n",
    "}\n",
    "\n",
    "function prune(value:bigint):bigint {\n",
    "    return (value % 16777216) \n",
    "}\n",
    "\n",
    "for(const line:bigint of lines) {\n",
    "    let secret:bigint = line\n",
    "    for (let x=0; x < 2000; ++x) {\n",
    "        let newSecret:bigint = secret * 64\n",
    "        secret = mix(newSecret, secret)\n",
    "        secret = prune(secret)\n",
    "        // console.log('Mult:', secret)\n",
    "\n",
    "        newSecret = Math.trunc(secret / 32)\n",
    "        secret = mix(newSecret, secret)\n",
    "        secret = prune(secret)\n",
    "        // console.log('Div:', secret)\n",
    "\n",
    "        newSecret = secret * 2048\n",
    "        // console.log('newSecret', newSecret)\n",
    "        secret = mix(newSecret, secret)\n",
    "        // console.log('mix', secret)\n",
    "        secret = prune(secret)\n",
    "        // console.log('2048:', secret)\n",
    "\n",
    "        // console.log(result)\n",
    "    }\n",
    "    result += secret\n",
    "    \n",
    "    console.log(line, secret)\n",
    "}\n",
    "// Answer: 14180628689\n",
    "console.log(result)"
   ]
  }
 ],
 "metadata": {
  "kernelspec": {
   "display_name": "Deno",
   "language": "typescript",
   "name": "deno"
  },
  "language_info": {
   "codemirror_mode": "typescript",
   "file_extension": ".ts",
   "mimetype": "text/x.typescript",
   "name": "typescript",
   "nbconvert_exporter": "script",
   "pygments_lexer": "typescript",
   "version": "5.6.2"
  }
 },
 "nbformat": 4,
 "nbformat_minor": 2
}
