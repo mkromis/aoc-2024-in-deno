{
 "cells": [
  {
   "cell_type": "code",
   "execution_count": 1,
   "metadata": {},
   "outputs": [
    {
     "data": {
      "text/plain": [
       "\u001b[32m\"Result:157621318\"\u001b[39m"
      ]
     },
     "metadata": {},
     "output_type": "display_data"
    }
   ],
   "source": [
    "import * as fs from 'node:fs/promises'\n",
    "\n",
    "const file = (await fs.readFile('input', 'ascii')).toString()\n",
    "\n",
    "let index = 0\n",
    "let result = BigInt(0)\n",
    "while (true) {\n",
    "    // find first part\n",
    "    const mulIdx = file.indexOf(\"mul(\", index)\n",
    "    if (mulIdx === -1) break\n",
    "\n",
    "    // This is the math part\n",
    "    const math = file.substring(mulIdx + 4, mulIdx + 14)\n",
    "    const sep = math.indexOf(',')\n",
    "    const paren = math.indexOf(')')\n",
    "\n",
    "    if (sep > 0 && paren > 0) {\n",
    "        const split = math.substring(0, paren).split(',');\n",
    "        //await Deno.jupyter.display(`value: ${math}, ${split}`)\n",
    "        \n",
    "        try {\n",
    "            const first:BigInt = BigInt(split[0])\n",
    "            const second:BigInt = BigInt(split[1])\n",
    "            const value:BigInt = first * second\n",
    "            result += value\n",
    "        } catch {}\n",
    "    }\n",
    "    index = mulIdx + 1\n",
    "}\n",
    "\n",
    "// Result:\n",
    "// Sample 161\n",
    "// input: 157621318\n",
    "\n",
    "await Deno.jupyter.display(\"Result:\" + result)"
   ]
  }
 ],
 "metadata": {
  "kernelspec": {
   "display_name": "Deno",
   "language": "typescript",
   "name": "deno"
  },
  "language_info": {
   "codemirror_mode": "typescript",
   "file_extension": ".ts",
   "mimetype": "text/x.typescript",
   "name": "typescript",
   "nbconvert_exporter": "script",
   "pygments_lexer": "typescript",
   "version": "5.6.2"
  }
 },
 "nbformat": 4,
 "nbformat_minor": 2
}
