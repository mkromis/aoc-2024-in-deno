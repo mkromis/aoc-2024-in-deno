{
 "cells": [
  {
   "cell_type": "markdown",
   "metadata": {},
   "source": [
    "https://adventofcode.com/2024/day/11"
   ]
  },
  {
   "cell_type": "code",
   "execution_count": null,
   "metadata": {},
   "outputs": [],
   "source": [
    "import * as fs from 'node:fs/promises'\n",
    "\n",
    "let data = await fs.readFile('input', 'utf8')\n",
    "\n",
    "console.log(`Initial arragement:\\n${data}\\n`)\n",
    "\n",
    "for (let x = 0; x < 25; ++x) {\n",
    "    let row = ''\n",
    "    for (let item of data.split(' ')) {\n",
    "        if (item === '0') {\n",
    "            row += '1'\n",
    "        } else if (item.length % 2 === 0) {\n",
    "            row += Number(item.substring(0, item.length /2))\n",
    "            row += ' '\n",
    "            row += Number(item.substring(item.length /2))\n",
    "        } else { \n",
    "            row += Number(item) * 2024\n",
    "        }\n",
    "        row += ' '\n",
    "    }\n",
    "    console.log('Data blink', x, data.length)\n",
    "    data = row.trim()\n",
    "\n",
    "    console.log(`After ${x + 1} blink:\\n${data}\\n`)\n",
    "}\n",
    "\n",
    "console.log('Total of', data.split(' ').length ,'stones')\n",
    "\n",
    "// sample = '0 1 10 99 999'\n",
    "// after 1 blinks '1 2024 1 0 9 9 2021976'\n",
    "\n",
    "// sample = '127 17'\n",
    "// after 6 blinks '22 stones'\n",
    "// after 25 blinks '55312 stones'\n",
    "\n",
    "// input after 25 blinks 231278\n"
   ]
  }
 ],
 "metadata": {
  "kernelspec": {
   "display_name": "Deno",
   "language": "typescript",
   "name": "deno"
  },
  "language_info": {
   "codemirror_mode": "typescript",
   "file_extension": ".ts",
   "mimetype": "text/x.typescript",
   "name": "typescript",
   "nbconvert_exporter": "script",
   "pygments_lexer": "typescript",
   "version": "5.6.2"
  }
 },
 "nbformat": 4,
 "nbformat_minor": 2
}
