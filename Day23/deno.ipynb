{
 "cells": [
  {
   "cell_type": "markdown",
   "metadata": {},
   "source": [
    "https://adventofcode.com/2024/day/23"
   ]
  },
  {
   "cell_type": "code",
   "execution_count": 51,
   "metadata": {},
   "outputs": [
    {
     "name": "stdout",
     "output_type": "stream",
     "text": [
      "1000\n"
     ]
    }
   ],
   "source": [
    "const { display, md } = Deno.jupyter\n",
    "\n",
    "const file = await Deno.readTextFile('input')\n",
    "const lines = file.split('\\n')\n",
    "\n",
    "let input = new Map<string, string[]>()\n",
    "for (const line of lines) {\n",
    "    let split = line.split('-')\n",
    "\n",
    "    // Left key\n",
    "    let map = input.get(split[0]) ?? []\n",
    "    map.push(split[1])\n",
    "    input.set(split[0], map)\n",
    "\n",
    "    // right key\n",
    "    map = input.get(split[1]) ?? []\n",
    "    map.push(split[0])\n",
    "    input.set(split[1], map)\n",
    "}\n",
    "\n",
    "// Gets number of keys\n",
    "//console.log(input.size)\n",
    "\n",
    "let result = new Set<string>()\n",
    "for(const first of input.keys()) {\n",
    "    // console.log(first)\n",
    "    for (const second of input.get(first)) {\n",
    "        // console.log(first, second)\n",
    "        for (const third of input.get(second)) {\n",
    "            if (first === third) continue\n",
    "            // console.log(first, second, third)\n",
    "            for (const fourth of input.get(third)) {\n",
    "                if (first == fourth) {\n",
    "                    //console.log(first,second,third,fourth)\n",
    "                    if (first.startsWith('t') || second.startsWith('t') || third.startsWith('t')) {\n",
    "                        // only log items that start with t\n",
    "                        const item = [first,second,third].sort();\n",
    "                        const key = item.join(',')\n",
    "                        result.add(key);\n",
    "                    }\n",
    "                }\n",
    "            }\n",
    "        }\n",
    "    }\n",
    "}\n",
    "console.log(result.size)\n",
    "//console.log(result)"
   ]
  }
 ],
 "metadata": {
  "kernelspec": {
   "display_name": "Deno",
   "language": "typescript",
   "name": "deno"
  },
  "language_info": {
   "codemirror_mode": "typescript",
   "file_extension": ".ts",
   "mimetype": "text/x.typescript",
   "name": "typescript",
   "nbconvert_exporter": "script",
   "pygments_lexer": "typescript",
   "version": "5.6.2"
  }
 },
 "nbformat": 4,
 "nbformat_minor": 2
}
